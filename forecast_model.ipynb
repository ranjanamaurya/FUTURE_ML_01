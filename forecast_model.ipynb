
# AI-Powered Sales Forecasting Dashboard

This notebook demonstrates how to forecast retail sales using Facebook Prophet.

## Steps:
1. Load the historical sales data
2. Train a time series model
3. Predict future sales for the next 30 days
4. Visualize trends and seasonality
